{
 "cells": [
  {
   "cell_type": "code",
   "execution_count": 1,
   "metadata": {
    "colab": {
     "base_uri": "https://localhost:8080/"
    },
    "id": "y7e-GIeGYzOy",
    "outputId": "65e16ea7-fcde-4e86-af40-2036d8723448"
   },
   "outputs": [
    {
     "name": "stdout",
     "output_type": "stream",
     "text": [
      "Length of text: 784031 characters\n"
     ]
    }
   ],
   "source": [
    "path_to_file = 'martineden.txt'\n",
    "# Read, then decode for py2 compat.\n",
    "text = open(path_to_file, 'rb').read().decode(encoding='utf-8')\n",
    "# length of text is the number of characters in it\n",
    "print(f'Length of text: {len(text)} characters')"
   ]
  },
  {
   "cell_type": "code",
   "execution_count": 2,
   "metadata": {
    "colab": {
     "base_uri": "https://localhost:8080/"
    },
    "id": "AsAM_lUvbJ_g",
    "outputId": "73be3899-03d6-4ffa-97d3-81703bd00299"
   },
   "outputs": [
    {
     "name": "stdout",
     "output_type": "stream",
     "text": [
      "﻿Martin Eden\r\n",
      "\r\n",
      "by Jack London\r\n",
      "\r\n",
      "“Let me live out my years in heat of blood!\r\n",
      "    Let me lie drunken with the dreamer’s wine!\r\n",
      "Let me not see this soul-house built of mud\r\n",
      "    Go toppling to the dust a vacant shrine!”\r\n",
      "\r\n",
      "\r\n",
      "\r\n",
      "\r\n",
      "CHAPTER I.\r\n",
      "\r\n",
      "\r\n",
      "The one opened the door with a latch-key and went in, followed by a\r\n",
      "young fellow who awkwardly removed his cap. He wore rough clothes that\r\n",
      "smacked of the sea, and he was manifestly out of place in the spacious\r\n",
      "hall in which he found himself. He did not know what to do with his\r\n",
      "cap, and was stuffing it into his coat pocket when the other took it\r\n",
      "from him. The act was done quietly and naturally, and the awkward young\r\n",
      "fellow appreciated it. “He understands,” was his thought. “He’ll see me\r\n",
      "through all right.”\r\n",
      "\r\n",
      "He walked at the other’s heels with a swing to his shoulders, and his\r\n",
      "legs spread unwittingly, as if the level floors were tilting up and\r\n",
      "sinking down to the heave and lunge of the sea. The wide rooms seemed\r\n",
      "too narrow for his rolli\n"
     ]
    }
   ],
   "source": [
    "#Look at first 1000 Characters\n",
    "print(text[:1000])"
   ]
  },
  {
   "cell_type": "code",
   "execution_count": 3,
   "metadata": {
    "colab": {
     "base_uri": "https://localhost:8080/"
    },
    "id": "Uyy9Ns1mbLPo",
    "outputId": "fc564288-b63f-42a1-99f7-870cc52743b4"
   },
   "outputs": [
    {
     "name": "stdout",
     "output_type": "stream",
     "text": [
      "\n",
      "\r",
      " !$%&(),-.0123456789:;?ABCDEFGHIJKLMNOPQRSTUVWXYZ_abcdefghijklmnopqrstuvwxyzÆàäéôö—‘’“”﻿\n",
      "90\n"
     ]
    }
   ],
   "source": [
    "# List all unique characters in this dataset\n",
    "chars = sorted(list(set(text)))\n",
    "vocab_size = len(chars)\n",
    "print(''.join(chars))\n",
    "print(vocab_size)"
   ]
  },
  {
   "cell_type": "code",
   "execution_count": 4,
   "metadata": {
    "colab": {
     "base_uri": "https://localhost:8080/"
    },
    "id": "sRE2KYvZbSL8",
    "outputId": "29f55a31-5b3a-4c9d-c0cd-55a1d5a7a72d"
   },
   "outputs": [
    {
     "name": "stdout",
     "output_type": "stream",
     "text": [
      "[32, 56, 63, 63, 66, 2, 47, 66, 69, 63, 55]\n",
      "Hello World\n"
     ]
    }
   ],
   "source": [
    "# Map from characters to integers\n",
    "stoi = { ch:i for i,ch in enumerate(chars) }\n",
    "itos = { i:ch for i,ch in enumerate(chars) }\n",
    "encode = lambda s: [stoi[c] for c in s] #Take a string, output list of integers\n",
    "decode = lambda l: ''.join([itos[i] for i in l]) #Take a list of integers, output a string\n",
    "\n",
    "print(encode(\"Hello World\"))\n",
    "print(decode(encode(\"Hello World\")))"
   ]
  },
  {
   "cell_type": "code",
   "execution_count": 5,
   "metadata": {
    "colab": {
     "base_uri": "https://localhost:8080/"
    },
    "id": "kYJjp-n9bV9A",
    "outputId": "ce72d835-bed3-4671-9234-2b7ce14fe8f0"
   },
   "outputs": [
    {
     "name": "stdout",
     "output_type": "stream",
     "text": [
      "torch.Size([784031]) torch.int64\n",
      "tensor([89, 37, 52, 69, 71, 60, 65,  2, 29, 55, 56, 65,  1,  0,  1,  0, 53, 76,\n",
      "         2, 34, 52, 54, 62,  2, 36, 66, 65, 55, 66, 65,  1,  0,  1,  0, 87, 36,\n",
      "        56, 71,  2, 64, 56,  2, 63, 60, 73, 56,  2, 66, 72, 71,  2, 64, 76,  2,\n",
      "        76, 56, 52, 69, 70,  2, 60, 65,  2, 59, 56, 52, 71,  2, 66, 57,  2, 53,\n",
      "        63, 66, 66, 55,  3,  1,  0,  2,  2,  2,  2, 36, 56, 71,  2, 64, 56,  2,\n",
      "        63, 60, 56,  2, 55, 69, 72, 65, 62, 56, 65,  2, 74, 60, 71, 59,  2, 71,\n",
      "        59, 56,  2, 55, 69, 56, 52, 64, 56, 69, 86, 70,  2, 74, 60, 65, 56,  3,\n",
      "         1,  0, 36, 56, 71,  2, 64, 56,  2, 65, 66, 71,  2, 70, 56, 56,  2, 71,\n",
      "        59, 60, 70,  2, 70, 66, 72, 63, 10, 59, 66, 72, 70, 56,  2, 53, 72, 60,\n",
      "        63, 71,  2, 66, 57,  2, 64, 72, 55,  1,  0,  2,  2,  2,  2, 31, 66,  2,\n",
      "        71, 66, 67, 67, 63, 60, 65, 58,  2, 71, 66,  2, 71, 59, 56,  2, 55, 72,\n",
      "        70, 71,  2, 52,  2, 73, 52, 54, 52, 65, 71,  2, 70, 59, 69, 60, 65, 56,\n",
      "         3, 88,  1,  0,  1,  0,  1,  0,  1,  0,  1,  0, 27, 32, 25, 40, 44, 29,\n",
      "        42,  2, 33, 11,  1,  0,  1,  0,  1,  0, 44, 59, 56,  2, 66, 65, 56,  2,\n",
      "        66, 67, 56, 65, 56, 55,  2, 71, 59, 56,  2, 55, 66, 66, 69,  2, 74, 60,\n",
      "        71, 59,  2, 52,  2, 63, 52, 71, 54, 59, 10, 62, 56, 76,  2, 52, 65, 55,\n",
      "         2, 74, 56, 65, 71,  2, 60, 65,  9,  2, 57, 66, 63, 63, 66, 74, 56, 55,\n",
      "         2, 53, 76,  2, 52,  1,  0, 76, 66, 72, 65, 58,  2, 57, 56, 63, 63, 66,\n",
      "        74,  2, 74, 59, 66,  2, 52, 74, 62, 74, 52, 69, 55, 63, 76,  2, 69, 56,\n",
      "        64, 66, 73, 56, 55,  2, 59, 60, 70,  2, 54, 52, 67, 11,  2, 32, 56,  2,\n",
      "        74, 66, 69, 56,  2, 69, 66, 72, 58, 59,  2, 54, 63, 66, 71, 59, 56, 70,\n",
      "         2, 71, 59, 52, 71,  1,  0, 70, 64, 52, 54, 62, 56, 55,  2, 66, 57,  2,\n",
      "        71, 59, 56,  2, 70, 56, 52,  9,  2, 52, 65, 55,  2, 59, 56,  2, 74, 52,\n",
      "        70,  2, 64, 52, 65, 60, 57, 56, 70, 71, 63, 76,  2, 66, 72, 71,  2, 66,\n",
      "        57,  2, 67, 63, 52, 54, 56,  2, 60, 65,  2, 71, 59, 56,  2, 70, 67, 52,\n",
      "        54, 60, 66, 72, 70,  1,  0, 59, 52, 63, 63,  2, 60, 65,  2, 74, 59, 60,\n",
      "        54, 59,  2, 59, 56,  2, 57, 66, 72, 65, 55,  2, 59, 60, 64, 70, 56, 63,\n",
      "        57, 11,  2, 32, 56,  2, 55, 60, 55,  2, 65, 66, 71,  2, 62, 65, 66, 74,\n",
      "         2, 74, 59, 52, 71,  2, 71, 66,  2, 55, 66,  2, 74, 60, 71, 59,  2, 59,\n",
      "        60, 70,  1,  0, 54, 52, 67,  9,  2, 52, 65, 55,  2, 74, 52, 70,  2, 70,\n",
      "        71, 72, 57, 57, 60, 65, 58,  2, 60, 71,  2, 60, 65, 71, 66,  2, 59, 60,\n",
      "        70,  2, 54, 66, 52, 71,  2, 67, 66, 54, 62, 56, 71,  2, 74, 59, 56, 65,\n",
      "         2, 71, 59, 56,  2, 66, 71, 59, 56, 69,  2, 71, 66, 66, 62,  2, 60, 71,\n",
      "         1,  0, 57, 69, 66, 64,  2, 59, 60, 64, 11,  2, 44, 59, 56,  2, 52, 54,\n",
      "        71,  2, 74, 52, 70,  2, 55, 66, 65, 56,  2, 68, 72, 60, 56, 71, 63, 76,\n",
      "         2, 52, 65, 55,  2, 65, 52, 71, 72, 69, 52, 63, 63, 76,  9,  2, 52, 65,\n",
      "        55,  2, 71, 59, 56,  2, 52, 74, 62, 74, 52, 69, 55,  2, 76, 66, 72, 65,\n",
      "        58,  1,  0, 57, 56, 63, 63, 66, 74,  2, 52, 67, 67, 69, 56, 54, 60, 52,\n",
      "        71, 56, 55,  2, 60, 71, 11,  2, 87, 32, 56,  2, 72, 65, 55, 56, 69, 70,\n",
      "        71, 52, 65, 55, 70,  9, 88,  2, 74, 52, 70,  2, 59, 60, 70,  2, 71, 59,\n",
      "        66, 72, 58, 59, 71, 11,  2, 87, 32, 56, 86, 63, 63,  2, 70, 56, 56,  2,\n",
      "        64, 56,  1,  0, 71, 59, 69, 66, 72, 58, 59,  2, 52, 63, 63,  2, 69, 60,\n",
      "        58, 59, 71, 11, 88,  1,  0,  1,  0, 32, 56,  2, 74, 52, 63, 62, 56, 55,\n",
      "         2, 52, 71,  2, 71, 59, 56,  2, 66, 71, 59, 56, 69, 86, 70,  2, 59, 56,\n",
      "        56, 63, 70,  2, 74, 60, 71, 59,  2, 52,  2, 70, 74, 60, 65, 58,  2, 71,\n",
      "        66,  2, 59, 60, 70,  2, 70, 59, 66, 72, 63, 55, 56, 69, 70,  9,  2, 52,\n",
      "        65, 55,  2, 59, 60, 70,  1,  0, 63, 56, 58, 70,  2, 70, 67, 69, 56, 52,\n",
      "        55,  2, 72, 65, 74, 60, 71, 71, 60, 65, 58, 63, 76,  9,  2, 52, 70,  2,\n",
      "        60, 57,  2, 71, 59, 56,  2, 63, 56, 73, 56, 63,  2, 57, 63, 66, 66, 69,\n",
      "        70,  2, 74, 56, 69, 56,  2, 71, 60, 63, 71, 60, 65, 58,  2, 72, 67,  2,\n",
      "        52, 65, 55,  1,  0, 70, 60, 65, 62, 60, 65, 58,  2, 55, 66, 74, 65,  2,\n",
      "        71, 66,  2, 71, 59, 56,  2, 59, 56, 52, 73, 56,  2, 52, 65, 55,  2, 63,\n",
      "        72, 65, 58, 56,  2, 66, 57,  2, 71, 59, 56,  2, 70, 56, 52, 11,  2, 44,\n",
      "        59, 56,  2, 74, 60, 55, 56,  2, 69, 66, 66, 64, 70,  2, 70, 56, 56, 64,\n",
      "        56, 55,  1,  0, 71, 66, 66,  2, 65, 52, 69, 69, 66, 74,  2, 57, 66, 69,\n",
      "         2, 59, 60, 70,  2, 69, 66, 63, 63, 60])\n"
     ]
    }
   ],
   "source": [
    "#Now we encode the entire dataset and store it in a torch.Tensor using PyTorch\n",
    "import torch\n",
    "data = torch.tensor(encode(text), dtype=torch.long)\n",
    "print(data.shape, data.dtype)\n",
    "print(data[:1000]) #These 1000 characters will be displayed how the GPT model views text"
   ]
  },
  {
   "cell_type": "code",
   "execution_count": 6,
   "metadata": {
    "id": "SUr03z1KbaDX"
   },
   "outputs": [],
   "source": [
    "#Split data into Train and Validation sets. First 90% will be train and the rest will be val.\n",
    "n = int(0.9*len(data))\n",
    "train_data = data[:n]\n",
    "val_data = data[n:]"
   ]
  },
  {
   "cell_type": "code",
   "execution_count": 7,
   "metadata": {
    "colab": {
     "base_uri": "https://localhost:8080/"
    },
    "id": "EZ5CEBMdbdz2",
    "outputId": "82b24567-2cae-4c03-aa4f-ad0e3991d84c"
   },
   "outputs": [
    {
     "data": {
      "text/plain": [
       "tensor([89, 37, 52, 69, 71, 60, 65,  2, 29])"
      ]
     },
     "execution_count": 7,
     "metadata": {},
     "output_type": "execute_result"
    }
   ],
   "source": [
    "block_size = 8\n",
    "train_data[:block_size+1]"
   ]
  },
  {
   "cell_type": "code",
   "execution_count": 8,
   "metadata": {
    "colab": {
     "base_uri": "https://localhost:8080/"
    },
    "id": "1jfzwSI2by2_",
    "outputId": "4a3a6d02-6b60-4552-f8e0-d03a79aaa967"
   },
   "outputs": [
    {
     "name": "stdout",
     "output_type": "stream",
     "text": [
      "when input is tensor([89]) the target: 37\n",
      "when input is tensor([89, 37]) the target: 52\n",
      "when input is tensor([89, 37, 52]) the target: 69\n",
      "when input is tensor([89, 37, 52, 69]) the target: 71\n",
      "when input is tensor([89, 37, 52, 69, 71]) the target: 60\n",
      "when input is tensor([89, 37, 52, 69, 71, 60]) the target: 65\n",
      "when input is tensor([89, 37, 52, 69, 71, 60, 65]) the target: 2\n",
      "when input is tensor([89, 37, 52, 69, 71, 60, 65,  2]) the target: 29\n"
     ]
    }
   ],
   "source": [
    "x = train_data[:block_size]\n",
    "y = train_data[1:block_size+1]\n",
    "for t in range(block_size):\n",
    "    context = x[:t+1]\n",
    "    target = y[t]\n",
    "    print(f\"when input is {context} the target: {target}\")"
   ]
  },
  {
   "cell_type": "code",
   "execution_count": 9,
   "metadata": {
    "colab": {
     "base_uri": "https://localhost:8080/"
    },
    "id": "bOhzuF68b2OD",
    "outputId": "0db68708-2fd1-47ac-9e08-2c1c688e186d"
   },
   "outputs": [
    {
     "name": "stdout",
     "output_type": "stream",
     "text": [
      "inputs:\n",
      "torch.Size([4, 8])\n",
      "tensor([[60, 65, 58,  2, 59, 60, 70,  2],\n",
      "        [69, 66, 66, 64, 70, 11,  2, 27],\n",
      "        [66,  2, 60, 65, 70, 72, 63, 71],\n",
      "        [60, 58, 59, 71, 60, 65, 58,  1]])\n",
      "targets:\n",
      "torch.Size([4, 8])\n",
      "tensor([[65, 58,  2, 59, 60, 70,  2, 69],\n",
      "        [66, 66, 64, 70, 11,  2, 27, 66],\n",
      "        [ 2, 60, 65, 70, 72, 63, 71,  2],\n",
      "        [58, 59, 71, 60, 65, 58,  1,  0]])\n",
      "----\n",
      "when input is [60] the target: 65\n",
      "when input is [60, 65] the target: 58\n",
      "when input is [60, 65, 58] the target: 2\n",
      "when input is [60, 65, 58, 2] the target: 59\n",
      "when input is [60, 65, 58, 2, 59] the target: 60\n",
      "when input is [60, 65, 58, 2, 59, 60] the target: 70\n",
      "when input is [60, 65, 58, 2, 59, 60, 70] the target: 2\n",
      "when input is [60, 65, 58, 2, 59, 60, 70, 2] the target: 69\n",
      "when input is [69] the target: 66\n",
      "when input is [69, 66] the target: 66\n",
      "when input is [69, 66, 66] the target: 64\n",
      "when input is [69, 66, 66, 64] the target: 70\n",
      "when input is [69, 66, 66, 64, 70] the target: 11\n",
      "when input is [69, 66, 66, 64, 70, 11] the target: 2\n",
      "when input is [69, 66, 66, 64, 70, 11, 2] the target: 27\n",
      "when input is [69, 66, 66, 64, 70, 11, 2, 27] the target: 66\n",
      "when input is [66] the target: 2\n",
      "when input is [66, 2] the target: 60\n",
      "when input is [66, 2, 60] the target: 65\n",
      "when input is [66, 2, 60, 65] the target: 70\n",
      "when input is [66, 2, 60, 65, 70] the target: 72\n",
      "when input is [66, 2, 60, 65, 70, 72] the target: 63\n",
      "when input is [66, 2, 60, 65, 70, 72, 63] the target: 71\n",
      "when input is [66, 2, 60, 65, 70, 72, 63, 71] the target: 2\n",
      "when input is [60] the target: 58\n",
      "when input is [60, 58] the target: 59\n",
      "when input is [60, 58, 59] the target: 71\n",
      "when input is [60, 58, 59, 71] the target: 60\n",
      "when input is [60, 58, 59, 71, 60] the target: 65\n",
      "when input is [60, 58, 59, 71, 60, 65] the target: 58\n",
      "when input is [60, 58, 59, 71, 60, 65, 58] the target: 1\n",
      "when input is [60, 58, 59, 71, 60, 65, 58, 1] the target: 0\n"
     ]
    }
   ],
   "source": [
    "torch.manual_seed(1337)\n",
    "batch_size = 4 # How many independent sequences will we process in parallel?\n",
    "block_size = 8 # What is the maximum context length for predictions?\n",
    "\n",
    "def get_batch(split):\n",
    "    # Generate a small batch of data of inputs x and targets y\n",
    "    data = train_data if split == 'train' else val_data\n",
    "    ix = torch.randint(len(data) - block_size, (batch_size,))\n",
    "    x = torch.stack([data[i:i+block_size] for i in ix])\n",
    "    y = torch.stack([data[i+1:i+block_size+1] for i in ix])\n",
    "    return x, y\n",
    "\n",
    "xb, yb = get_batch('train')\n",
    "print('inputs:')\n",
    "print(xb.shape)\n",
    "print(xb)\n",
    "print('targets:')\n",
    "print(yb.shape)\n",
    "print(yb)\n",
    "\n",
    "print('----')\n",
    "\n",
    "for b in range(batch_size): # batch dimension\n",
    "    for t in range(block_size): # time dimension\n",
    "        context = xb[b, :t+1]\n",
    "        target = yb[b,t]\n",
    "        print(f\"when input is {context.tolist()} the target: {target}\")"
   ]
  },
  {
   "cell_type": "code",
   "execution_count": 10,
   "metadata": {
    "colab": {
     "base_uri": "https://localhost:8080/"
    },
    "id": "wZgzmg_xb8Z_",
    "outputId": "b5ce8ad5-8799-40b3-f0eb-897039f28799"
   },
   "outputs": [
    {
     "name": "stdout",
     "output_type": "stream",
     "text": [
      "tensor([[60, 65, 58,  2, 59, 60, 70,  2],\n",
      "        [69, 66, 66, 64, 70, 11,  2, 27],\n",
      "        [66,  2, 60, 65, 70, 72, 63, 71],\n",
      "        [60, 58, 59, 71, 60, 65, 58,  1]])\n"
     ]
    }
   ],
   "source": [
    "print(xb) #Our input to the transformer"
   ]
  },
  {
   "cell_type": "code",
   "execution_count": 11,
   "metadata": {
    "colab": {
     "base_uri": "https://localhost:8080/"
    },
    "id": "98G_vJE7b-hm",
    "outputId": "b4771369-3388-4143-a127-e76deb99f15a"
   },
   "outputs": [
    {
     "name": "stdout",
     "output_type": "stream",
     "text": [
      "torch.Size([32, 90])\n",
      "tensor(4.7894, grad_fn=<NllLossBackward0>)\n",
      "\n",
      "àk9_ DwxöT3nC6ö!Æ35Blé,U0AKH23D5_%o5:r\r",
      "cz9j7hU0ô’Dät,zW_ÆBE37VX“tmD5gcC;\n",
      "9o5äU àL)0R5,9\n",
      "ätmk“8aäyM.:\n"
     ]
    }
   ],
   "source": [
    "import torch\n",
    "import torch.nn as nn\n",
    "from torch.nn import functional as F\n",
    "torch.manual_seed(1337)\n",
    "\n",
    "class BigramLanguageModel(nn.Module):\n",
    "\n",
    "    def __init__(self, vocab_size):\n",
    "        super().__init__()\n",
    "        # Each token directly reads off the logits for the next token from a lookup table\n",
    "        self.token_embedding_table = nn.Embedding(vocab_size, vocab_size)\n",
    "\n",
    "    def forward(self, idx, targets=None):\n",
    "\n",
    "        # idx and targets are both (B,T) tensor of integers\n",
    "        logits = self.token_embedding_table(idx) # (B,T,C)\n",
    "\n",
    "        if targets is None:\n",
    "            loss = None\n",
    "        else:\n",
    "            B, T, C = logits.shape\n",
    "            logits = logits.view(B*T, C)\n",
    "            targets = targets.view(B*T)\n",
    "            loss = F.cross_entropy(logits, targets)\n",
    "\n",
    "        return logits, loss\n",
    "\n",
    "    def generate(self, idx, max_new_tokens):\n",
    "        # idx is (B, T) array of indices in the current context\n",
    "        for _ in range(max_new_tokens):\n",
    "            # Get predictions\n",
    "            logits, loss = self(idx)\n",
    "            # Focus only on the last time step\n",
    "            logits = logits[:, -1, :] # becomes (B, C)\n",
    "            # Apply softmax to get probabilities\n",
    "            probs = F.softmax(logits, dim=-1) # (B, C)\n",
    "            # Sample from the distribution\n",
    "            idx_next = torch.multinomial(probs, num_samples=1) # (B, 1)\n",
    "            # Append sampled index to the running sequence\n",
    "            idx = torch.cat((idx, idx_next), dim=1) # (B, T+1)\n",
    "        return idx\n",
    "\n",
    "m = BigramLanguageModel(vocab_size)\n",
    "logits, loss = m(xb, yb)\n",
    "print(logits.shape)\n",
    "print(loss)\n",
    "\n",
    "print(decode(m.generate(idx = torch.zeros((1, 1), dtype=torch.long), max_new_tokens=100)[0].tolist()))"
   ]
  },
  {
   "cell_type": "code",
   "execution_count": 12,
   "metadata": {
    "id": "O0kOFEVacKU8"
   },
   "outputs": [],
   "source": [
    "#Create a PyTorch optimizer\n",
    "optimizer = torch.optim.AdamW(m.parameters(), lr=1e-3)"
   ]
  },
  {
   "cell_type": "code",
   "execution_count": 13,
   "metadata": {
    "colab": {
     "base_uri": "https://localhost:8080/"
    },
    "id": "FJhDD5bqcNLU",
    "outputId": "5674d584-43b7-4e99-d108-baa2e4c68a92"
   },
   "outputs": [
    {
     "name": "stdout",
     "output_type": "stream",
     "text": [
      "2.4262759685516357\n"
     ]
    }
   ],
   "source": [
    "batch_size = 32\n",
    "for steps in range(10000): # increase number of steps for good results...\n",
    "\n",
    "    # sample a batch of data\n",
    "    xb, yb = get_batch('train')\n",
    "\n",
    "    # evaluate the loss\n",
    "    logits, loss = m(xb, yb)\n",
    "    optimizer.zero_grad(set_to_none=True)\n",
    "    loss.backward()\n",
    "    optimizer.step()\n",
    "\n",
    "print(loss.item())"
   ]
  },
  {
   "cell_type": "code",
   "execution_count": 18,
   "metadata": {
    "colab": {
     "base_uri": "https://localhost:8080/"
    },
    "id": "kWKX15RvcVh6",
    "outputId": "61c47bac-926a-42c3-bfb4-7eeee3e8c9e4"
   },
   "outputs": [
    {
     "name": "stdout",
     "output_type": "stream",
     "text": [
      "\n",
      "coro!ZHondrt. Thomuthewherorasshamory d ag blloumajebisthacrgeh s thd, titht shoto w.\r\n",
      "ascsune ajug Nof t t balache, setin. fr Omandig pes\r\n",
      "caco r bythed pt he-scoiled bre.8!” f—ghik Seaupran-gulded thent allame titomene eawamupaneve HAnto blalall t.’se wherad,’s waure thath r Ratweeresis ontrabe th\r\n",
      "cay tutcade ied Pranin, gesthopess’As th whippronsed,”:\r\n",
      "\r\n",
      "guaknghe santichod r ff mme an, hesor\r\n",
      "cot flerk, L2DSobed\r\n",
      "\r\n",
      "tu’thal.\r\n",
      "BMasut\r\n",
      "kertrmobe alithe7Zxpuk. ofime owr “Fme ate grofe Ove grinve\n"
     ]
    }
   ],
   "source": [
    "print(decode(m.generate(idx = torch.zeros((1, 1), dtype=torch.long), max_new_tokens=500)[0].tolist()))"
   ]
  },
  {
   "cell_type": "code",
   "execution_count": 19,
   "metadata": {
    "colab": {
     "base_uri": "https://localhost:8080/"
    },
    "id": "1QbHBrhFcbvg",
    "outputId": "0861a883-e19e-49c3-ff8b-6d310e40c260"
   },
   "outputs": [
    {
     "name": "stdout",
     "output_type": "stream",
     "text": [
      "a=\n",
      "tensor([[1.0000, 0.0000, 0.0000],\n",
      "        [0.5000, 0.5000, 0.0000],\n",
      "        [0.3333, 0.3333, 0.3333]])\n",
      "--\n",
      "b=\n",
      "tensor([[2., 7.],\n",
      "        [6., 4.],\n",
      "        [6., 5.]])\n",
      "--\n",
      "c=\n",
      "tensor([[2.0000, 7.0000],\n",
      "        [4.0000, 5.5000],\n",
      "        [4.6667, 5.3333]])\n"
     ]
    }
   ],
   "source": [
    "# Toy example illustrating how matrix multiplication can be used for a \"weighted aggregation\"\n",
    "torch.manual_seed(42)\n",
    "a = torch.tril(torch.ones(3, 3))\n",
    "a = a / torch.sum(a, 1, keepdim=True)\n",
    "b = torch.randint(0,10,(3,2)).float()\n",
    "c = a @ b\n",
    "print('a=')\n",
    "print(a)\n",
    "print('--')\n",
    "print('b=')\n",
    "print(b)\n",
    "print('--')\n",
    "print('c=')\n",
    "print(c)"
   ]
  },
  {
   "cell_type": "code",
   "execution_count": 20,
   "metadata": {
    "colab": {
     "base_uri": "https://localhost:8080/"
    },
    "id": "7qdCeB_scfp0",
    "outputId": "d9bddb97-fdce-49b2-ba0e-fce2a45f676c"
   },
   "outputs": [
    {
     "data": {
      "text/plain": [
       "torch.Size([4, 8, 2])"
      ]
     },
     "execution_count": 20,
     "metadata": {},
     "output_type": "execute_result"
    }
   ],
   "source": [
    "# Consider the following example.\n",
    "torch.manual_seed(1337)\n",
    "B,T,C = 4,8,2 #Batch, Time, Channels\n",
    "x = torch.randn(B,T,C)\n",
    "x.shape"
   ]
  },
  {
   "cell_type": "code",
   "execution_count": 21,
   "metadata": {
    "id": "HjN-XpPBckdf"
   },
   "outputs": [],
   "source": [
    "# We want x[b,t] = mean_{i<=t} x[b,i]\n",
    "xbow = torch.zeros((B,T,C))\n",
    "for b in range(B):\n",
    "    for t in range(T):\n",
    "        xprev = x[b,:t+1] # (t,C)\n",
    "        xbow[b,t] = torch.mean(xprev, 0)"
   ]
  },
  {
   "cell_type": "code",
   "execution_count": 22,
   "metadata": {
    "colab": {
     "base_uri": "https://localhost:8080/"
    },
    "id": "rS-EA7nycnB_",
    "outputId": "7e651161-6b8e-4eb7-a89d-146eeafaf098"
   },
   "outputs": [
    {
     "data": {
      "text/plain": [
       "tensor([[ 0.1808, -0.0700],\n",
       "        [-0.3596, -0.9152],\n",
       "        [ 0.6258,  0.0255],\n",
       "        [ 0.9545,  0.0643],\n",
       "        [ 0.3612,  1.1679],\n",
       "        [-1.3499, -0.5102],\n",
       "        [ 0.2360, -0.2398],\n",
       "        [-0.9211,  1.5433]])"
      ]
     },
     "execution_count": 22,
     "metadata": {},
     "output_type": "execute_result"
    }
   ],
   "source": [
    "x[0]"
   ]
  },
  {
   "cell_type": "code",
   "execution_count": 23,
   "metadata": {
    "colab": {
     "base_uri": "https://localhost:8080/"
    },
    "id": "WEWw6-k0cpfb",
    "outputId": "4032ecd3-dc5f-4681-9be5-9df1bf51d6ee"
   },
   "outputs": [
    {
     "data": {
      "text/plain": [
       "tensor([[ 0.1808, -0.0700],\n",
       "        [-0.0894, -0.4926],\n",
       "        [ 0.1490, -0.3199],\n",
       "        [ 0.3504, -0.2238],\n",
       "        [ 0.3525,  0.0545],\n",
       "        [ 0.0688, -0.0396],\n",
       "        [ 0.0927, -0.0682],\n",
       "        [-0.0341,  0.1332]])"
      ]
     },
     "execution_count": 23,
     "metadata": {},
     "output_type": "execute_result"
    }
   ],
   "source": [
    "xbow[0]"
   ]
  },
  {
   "cell_type": "code",
   "execution_count": 24,
   "metadata": {
    "colab": {
     "base_uri": "https://localhost:8080/"
    },
    "id": "C7z-3ji4crFk",
    "outputId": "4ce96314-ded3-4afc-81cb-2d88fe3a91e6"
   },
   "outputs": [
    {
     "data": {
      "text/plain": [
       "False"
      ]
     },
     "execution_count": 24,
     "metadata": {},
     "output_type": "execute_result"
    }
   ],
   "source": [
    "# version 2: using matrix multiply for a weighted aggregation\n",
    "wei = torch.tril(torch.ones(T, T))\n",
    "wei = wei / wei.sum(1, keepdim=True)\n",
    "xbow2 = wei @ x # (B, T, T) @ (B, T, C) ----> (B, T, C)\n",
    "torch.allclose(xbow, xbow2)"
   ]
  },
  {
   "cell_type": "code",
   "execution_count": 25,
   "metadata": {
    "colab": {
     "base_uri": "https://localhost:8080/"
    },
    "id": "GtIFzlOscudj",
    "outputId": "7d2357e9-b1a1-4008-f410-fac0ce5efc82"
   },
   "outputs": [
    {
     "data": {
      "text/plain": [
       "False"
      ]
     },
     "execution_count": 25,
     "metadata": {},
     "output_type": "execute_result"
    }
   ],
   "source": [
    "# version 3: use Softmax\n",
    "tril = torch.tril(torch.ones(T, T))\n",
    "wei = torch.zeros((T,T))\n",
    "wei = wei.masked_fill(tril == 0, float('-inf'))\n",
    "wei = F.softmax(wei, dim=-1)\n",
    "xbow3 = wei @ x\n",
    "torch.allclose(xbow, xbow3)"
   ]
  },
  {
   "cell_type": "code",
   "execution_count": 26,
   "metadata": {
    "colab": {
     "base_uri": "https://localhost:8080/"
    },
    "id": "rOWfuxARcyaG",
    "outputId": "250c9e68-4cb6-49a8-8e27-3f417a93714f"
   },
   "outputs": [
    {
     "data": {
      "text/plain": [
       "torch.Size([4, 8, 16])"
      ]
     },
     "execution_count": 26,
     "metadata": {},
     "output_type": "execute_result"
    }
   ],
   "source": [
    "# version 4: Self-Attention!\n",
    "torch.manual_seed(1337)\n",
    "B,T,C = 4,8,32 # Batch, Time, Channels\n",
    "x = torch.randn(B,T,C)\n",
    "\n",
    "# Let's see a single Head perform self-attention\n",
    "head_size = 16\n",
    "key = nn.Linear(C, head_size, bias=False)\n",
    "query = nn.Linear(C, head_size, bias=False)\n",
    "value = nn.Linear(C, head_size, bias=False)\n",
    "k = key(x)   # (B, T, 16)\n",
    "q = query(x) # (B, T, 16)\n",
    "wei =  q @ k.transpose(-2, -1) # (B, T, 16) @ (B, 16, T) ---> (B, T, T)\n",
    "\n",
    "tril = torch.tril(torch.ones(T, T))\n",
    "#wei = torch.zeros((T,T))\n",
    "wei = wei.masked_fill(tril == 0, float('-inf'))\n",
    "wei = F.softmax(wei, dim=-1)\n",
    "\n",
    "v = value(x)\n",
    "out = wei @ v\n",
    "#out = wei @ x\n",
    "\n",
    "out.shape"
   ]
  },
  {
   "cell_type": "code",
   "execution_count": 27,
   "metadata": {
    "colab": {
     "base_uri": "https://localhost:8080/"
    },
    "id": "vAwnIbaQc3ZR",
    "outputId": "922b4af3-9c63-42d6-e393-5f6f133a9818"
   },
   "outputs": [
    {
     "data": {
      "text/plain": [
       "tensor([[1.0000, 0.0000, 0.0000, 0.0000, 0.0000, 0.0000, 0.0000, 0.0000],\n",
       "        [0.1574, 0.8426, 0.0000, 0.0000, 0.0000, 0.0000, 0.0000, 0.0000],\n",
       "        [0.2088, 0.1646, 0.6266, 0.0000, 0.0000, 0.0000, 0.0000, 0.0000],\n",
       "        [0.5792, 0.1187, 0.1889, 0.1131, 0.0000, 0.0000, 0.0000, 0.0000],\n",
       "        [0.0294, 0.1052, 0.0469, 0.0276, 0.7909, 0.0000, 0.0000, 0.0000],\n",
       "        [0.0176, 0.2689, 0.0215, 0.0089, 0.6812, 0.0019, 0.0000, 0.0000],\n",
       "        [0.1691, 0.4066, 0.0438, 0.0416, 0.1048, 0.2012, 0.0329, 0.0000],\n",
       "        [0.0210, 0.0843, 0.0555, 0.2297, 0.0573, 0.0709, 0.2423, 0.2391]],\n",
       "       grad_fn=<SelectBackward0>)"
      ]
     },
     "execution_count": 27,
     "metadata": {},
     "output_type": "execute_result"
    }
   ],
   "source": [
    "wei[0]"
   ]
  },
  {
   "cell_type": "code",
   "execution_count": 28,
   "metadata": {
    "id": "coWojp83c66O"
   },
   "outputs": [],
   "source": [
    "k = torch.randn(B,T,head_size)\n",
    "q = torch.randn(B,T,head_size)\n",
    "wei = q @ k.transpose(-2, -1) * head_size**-0.5"
   ]
  },
  {
   "cell_type": "code",
   "execution_count": 29,
   "metadata": {
    "colab": {
     "base_uri": "https://localhost:8080/"
    },
    "id": "DaofbYVvc_C3",
    "outputId": "b10672dd-89a1-441a-eaa5-706acb64724f"
   },
   "outputs": [
    {
     "data": {
      "text/plain": [
       "tensor(1.0449)"
      ]
     },
     "execution_count": 29,
     "metadata": {},
     "output_type": "execute_result"
    }
   ],
   "source": [
    "k.var()"
   ]
  },
  {
   "cell_type": "code",
   "execution_count": 30,
   "metadata": {
    "colab": {
     "base_uri": "https://localhost:8080/"
    },
    "id": "WuMnYbkIdCfG",
    "outputId": "73f1203a-af15-4326-ffcb-9a9b9aec322c"
   },
   "outputs": [
    {
     "data": {
      "text/plain": [
       "tensor(1.0700)"
      ]
     },
     "execution_count": 30,
     "metadata": {},
     "output_type": "execute_result"
    }
   ],
   "source": [
    "q.var()"
   ]
  },
  {
   "cell_type": "code",
   "execution_count": 31,
   "metadata": {
    "colab": {
     "base_uri": "https://localhost:8080/"
    },
    "id": "u2mbdDIYdDWx",
    "outputId": "9d2a2d40-abde-44ba-dda8-312ca16e3018"
   },
   "outputs": [
    {
     "data": {
      "text/plain": [
       "tensor(1.0918)"
      ]
     },
     "execution_count": 31,
     "metadata": {},
     "output_type": "execute_result"
    }
   ],
   "source": [
    "wei.var()"
   ]
  },
  {
   "cell_type": "code",
   "execution_count": 32,
   "metadata": {
    "colab": {
     "base_uri": "https://localhost:8080/"
    },
    "id": "07aGP-KYdF5f",
    "outputId": "4be5970a-8d2e-49e9-8610-53d0a039a681"
   },
   "outputs": [
    {
     "data": {
      "text/plain": [
       "tensor([0.1925, 0.1426, 0.2351, 0.1426, 0.2872])"
      ]
     },
     "execution_count": 32,
     "metadata": {},
     "output_type": "execute_result"
    }
   ],
   "source": [
    "torch.softmax(torch.tensor([0.1, -0.2, 0.3, -0.2, 0.5]), dim=-1)"
   ]
  },
  {
   "cell_type": "code",
   "execution_count": 33,
   "metadata": {
    "colab": {
     "base_uri": "https://localhost:8080/"
    },
    "id": "WamCIci3dInI",
    "outputId": "9fc39d62-a0e2-46b9-9cff-0b0c0a48971c"
   },
   "outputs": [
    {
     "data": {
      "text/plain": [
       "tensor([0.0326, 0.0030, 0.1615, 0.0030, 0.8000])"
      ]
     },
     "execution_count": 33,
     "metadata": {},
     "output_type": "execute_result"
    }
   ],
   "source": [
    "torch.softmax(torch.tensor([0.1, -0.2, 0.3, -0.2, 0.5])*8, dim=-1) # gets too peaky, converges to one-hot"
   ]
  },
  {
   "cell_type": "code",
   "execution_count": 34,
   "metadata": {
    "colab": {
     "base_uri": "https://localhost:8080/"
    },
    "id": "b3li1cVZdLBk",
    "outputId": "968c6b77-433a-4449-cb08-7dccdf0fe20c"
   },
   "outputs": [
    {
     "data": {
      "text/plain": [
       "torch.Size([32, 100])"
      ]
     },
     "execution_count": 34,
     "metadata": {},
     "output_type": "execute_result"
    }
   ],
   "source": [
    "class LayerNorm1d: # (used to be BatchNorm1d)\n",
    "\n",
    "  def __init__(self, dim, eps=1e-5, momentum=0.1):\n",
    "    self.eps = eps\n",
    "    self.gamma = torch.ones(dim)\n",
    "    self.beta = torch.zeros(dim)\n",
    "\n",
    "  def __call__(self, x):\n",
    "    # Calculate the forward pass\n",
    "    xmean = x.mean(1, keepdim=True) # Batch mean\n",
    "    xvar = x.var(1, keepdim=True) # Batch variance\n",
    "    xhat = (x - xmean) / torch.sqrt(xvar + self.eps) # Normalize to unit variance\n",
    "    self.out = self.gamma * xhat + self.beta\n",
    "    return self.out\n",
    "\n",
    "  def parameters(self):\n",
    "    return [self.gamma, self.beta]\n",
    "\n",
    "torch.manual_seed(1337)\n",
    "module = LayerNorm1d(100)\n",
    "x = torch.randn(32, 100) # Batch size 32 of 100-dimensional vectors\n",
    "x = module(x)\n",
    "x.shape"
   ]
  },
  {
   "cell_type": "code",
   "execution_count": 35,
   "metadata": {
    "colab": {
     "base_uri": "https://localhost:8080/"
    },
    "id": "Er74M3S0dOP7",
    "outputId": "71991dc4-8e0a-4a1d-d019-8f4206322e3c"
   },
   "outputs": [
    {
     "data": {
      "text/plain": [
       "(tensor(0.1469), tensor(0.8803))"
      ]
     },
     "execution_count": 35,
     "metadata": {},
     "output_type": "execute_result"
    }
   ],
   "source": [
    "x[:,0].mean(), x[:,0].std() # mean,std of one feature across all batch inputs"
   ]
  },
  {
   "cell_type": "code",
   "execution_count": 36,
   "metadata": {
    "colab": {
     "base_uri": "https://localhost:8080/"
    },
    "id": "RoBpBQG4dSLc",
    "outputId": "90f6ffc3-74ca-49e1-ca6e-0bbda3d9ae3a"
   },
   "outputs": [
    {
     "data": {
      "text/plain": [
       "(tensor(-9.5367e-09), tensor(1.0000))"
      ]
     },
     "execution_count": 36,
     "metadata": {},
     "output_type": "execute_result"
    }
   ],
   "source": [
    "x[0,:].mean(), x[0,:].std() # mean,std of a single input from the batch, of its features"
   ]
  },
  {
   "cell_type": "code",
   "execution_count": 39,
   "metadata": {
    "colab": {
     "base_uri": "https://localhost:8080/"
    },
    "id": "z0tOvZdfdbqZ",
    "outputId": "f3c0d478-2ad4-4468-c188-7564115e9842"
   },
   "outputs": [
    {
     "name": "stdout",
     "output_type": "stream",
     "text": [
      "0.212825 M parameters\n",
      "step 0: train loss 4.6685, val loss 4.6640\n",
      "step 100: train loss 2.6222, val loss 2.6334\n",
      "step 200: train loss 2.4903, val loss 2.4937\n",
      "step 300: train loss 2.4185, val loss 2.4311\n",
      "step 400: train loss 2.3298, val loss 2.3299\n",
      "step 500: train loss 2.2664, val loss 2.2707\n",
      "step 600: train loss 2.2135, val loss 2.2121\n",
      "step 700: train loss 2.1512, val loss 2.1640\n",
      "step 800: train loss 2.1052, val loss 2.1194\n",
      "step 900: train loss 2.0690, val loss 2.0710\n",
      "step 1000: train loss 2.0470, val loss 2.0431\n",
      "step 1100: train loss 2.0175, val loss 2.0256\n",
      "step 1200: train loss 1.9775, val loss 2.0014\n",
      "step 1300: train loss 1.9608, val loss 1.9743\n",
      "step 1400: train loss 1.9377, val loss 1.9424\n",
      "step 1500: train loss 1.9204, val loss 1.9345\n",
      "step 1600: train loss 1.9024, val loss 1.8951\n",
      "step 1700: train loss 1.8795, val loss 1.8962\n",
      "step 1800: train loss 1.8596, val loss 1.8798\n",
      "step 1900: train loss 1.8633, val loss 1.8687\n",
      "step 2000: train loss 1.8492, val loss 1.8703\n",
      "step 2100: train loss 1.8338, val loss 1.8597\n",
      "step 2200: train loss 1.8291, val loss 1.8314\n",
      "step 2300: train loss 1.8071, val loss 1.8295\n",
      "step 2400: train loss 1.8049, val loss 1.8233\n",
      "step 2500: train loss 1.8043, val loss 1.8187\n",
      "step 2600: train loss 1.7821, val loss 1.7912\n",
      "step 2700: train loss 1.7760, val loss 1.8054\n",
      "step 2800: train loss 1.7756, val loss 1.7823\n",
      "step 2900: train loss 1.7494, val loss 1.7808\n",
      "step 3000: train loss 1.7539, val loss 1.7648\n",
      "step 3100: train loss 1.7324, val loss 1.7540\n",
      "step 3200: train loss 1.7445, val loss 1.7607\n",
      "step 3300: train loss 1.7286, val loss 1.7421\n",
      "step 3400: train loss 1.7197, val loss 1.7363\n",
      "step 3500: train loss 1.7157, val loss 1.7410\n",
      "step 3600: train loss 1.7188, val loss 1.7457\n",
      "step 3700: train loss 1.7071, val loss 1.7317\n",
      "step 3800: train loss 1.6847, val loss 1.7140\n",
      "step 3900: train loss 1.6973, val loss 1.7154\n",
      "step 4000: train loss 1.6799, val loss 1.7041\n",
      "step 4100: train loss 1.6749, val loss 1.6986\n",
      "step 4200: train loss 1.6744, val loss 1.6919\n",
      "step 4300: train loss 1.6789, val loss 1.6962\n",
      "step 4400: train loss 1.6721, val loss 1.6851\n",
      "step 4500: train loss 1.6603, val loss 1.6815\n",
      "step 4600: train loss 1.6543, val loss 1.6826\n",
      "step 4700: train loss 1.6544, val loss 1.6806\n",
      "step 4800: train loss 1.6487, val loss 1.6742\n",
      "step 4900: train loss 1.6489, val loss 1.6765\n",
      "step 4999: train loss 1.6385, val loss 1.6517\n",
      "\n",
      "mey love remoupted quiver, whitel pownic nort. Martin, and also it ten rheadingent of huma and editoriked turnisented imnercing consual award extenarles of life-all hight as halove he too had seel a somred,” fought _y.” Sque intell at the throught began-so manstters. Martin he did never me colroputated Llawine. Noth wave the\n",
      "pacle ploples was a daze-counned it. Onlard fide looked to warm. He had been she cwell, to the\n",
      "all things\n",
      "volunce of the gramment in aboting tatious whim will darned to way; set too crumin, he Martin to ma good out monatry appreen at aftens he had so\n",
      "dething in the\n",
      "cultails of days, his agrinativisted what storitics nodving and unvils ode, vollace editoration.\n",
      "\n",
      "Anybackingly unter his. She was talked beautin a dreamet, class of hard poeming\n",
      "to the tramme was studying betty togical too love of Ruth so intell, looked he changing in him\n",
      "to his conslyin’ have could memand lidesh aul girlation happen again, and a that good.\n",
      "\n",
      "“I\n",
      "wantted fanch witcheph of boticement, and the fift. Thing a was flowisy busin, surving to Mr. Him nothow I talk spirit for\n",
      "been to anubt arre sea last prancess of the illaund outh poetry\n",
      "whole save he equic: here rook other days just of a\n",
      "banks, where hundle foundry\n",
      "only a becams in pronscipled.\n",
      "\n",
      "How she long pistured all again.\n",
      "Of, have the sick Yould that I have only-stanken and a madther of vast echementhing yoe moteral so making\n",
      "whiched nothing thrito his unternumptated poetrubing eaches to Time the feel cornly ammition, for in the\n",
      "stue get out,” he’s sond an’ portugure,” he\n",
      "would from the live hid the complittly to the for fee on thought rot that Also, he but do, who, he hunger found, in he wrate of perrying an\n",
      "save laugace. Now be\n",
      "they do, in so a moothing of it on the fould my\n",
      "reomeding consiscioniblity, what he reight of whio, said, roomenceding. And voild diff, and wenitors of pultingeness, and. And they munding daon bush matter of\n",
      "far at the wind ostockent companled his ell sently, when he\n",
      "laughaturia. You know-to him\n"
     ]
    }
   ],
   "source": [
    "import torch\n",
    "import torch.nn as nn\n",
    "from torch.nn import functional as F\n",
    "\n",
    "# Hyperparameters\n",
    "batch_size = 16 # How many independent sequences will we process in parallel?\n",
    "block_size = 32 # What is the maximum context length for predictions?\n",
    "max_iters = 5000\n",
    "eval_interval = 100\n",
    "learning_rate = 1e-3\n",
    "device = 'cuda' if torch.cuda.is_available() else 'cpu'\n",
    "eval_iters = 200\n",
    "n_embd = 64\n",
    "n_head = 4\n",
    "n_layer = 4\n",
    "dropout = 0.0\n",
    "# ------------\n",
    "\n",
    "torch.manual_seed(1337)\n",
    "\n",
    "\n",
    "path_to_file = 'martineden.txt'\n",
    "# Read, then decode for py2 compat.\n",
    "with open(path_to_file, 'r', encoding='utf-8') as f:\n",
    "    text = f.read()\n",
    "\n",
    "\n",
    "# Here are all the unique characters that occur in this text\n",
    "chars = sorted(list(set(text)))\n",
    "vocab_size = len(chars)\n",
    "# Create a mapping from characters to integers\n",
    "stoi = { ch:i for i,ch in enumerate(chars) }\n",
    "itos = { i:ch for i,ch in enumerate(chars) }\n",
    "encode = lambda s: [stoi[c] for c in s] # encoder: Take a string, output a list of integers\n",
    "decode = lambda l: ''.join([itos[i] for i in l]) # Decoder: take a list of integers, output a string\n",
    "\n",
    "# Train and test splits\n",
    "data = torch.tensor(encode(text), dtype=torch.long)\n",
    "n = int(0.9*len(data)) # First 90% will be train, rest val\n",
    "train_data = data[:n]\n",
    "val_data = data[n:]\n",
    "\n",
    "# Data loading\n",
    "def get_batch(split):\n",
    "    # Generate a small batch of data of inputs x and targets y\n",
    "    data = train_data if split == 'train' else val_data\n",
    "    ix = torch.randint(len(data) - block_size, (batch_size,))\n",
    "    x = torch.stack([data[i:i+block_size] for i in ix])\n",
    "    y = torch.stack([data[i+1:i+block_size+1] for i in ix])\n",
    "    x, y = x.to(device), y.to(device)\n",
    "    return x, y\n",
    "\n",
    "@torch.no_grad()\n",
    "def estimate_loss():\n",
    "    out = {}\n",
    "    model.eval()\n",
    "    for split in ['train', 'val']:\n",
    "        losses = torch.zeros(eval_iters)\n",
    "        for k in range(eval_iters):\n",
    "            X, Y = get_batch(split)\n",
    "            logits, loss = model(X, Y)\n",
    "            losses[k] = loss.item()\n",
    "        out[split] = losses.mean()\n",
    "    model.train()\n",
    "    return out\n",
    "\n",
    "class Head(nn.Module):\n",
    "    \"\"\" One head of self-attention \"\"\"\n",
    "\n",
    "    def __init__(self, head_size):\n",
    "        super().__init__()\n",
    "        self.key = nn.Linear(n_embd, head_size, bias=False)\n",
    "        self.query = nn.Linear(n_embd, head_size, bias=False)\n",
    "        self.value = nn.Linear(n_embd, head_size, bias=False)\n",
    "        self.register_buffer('tril', torch.tril(torch.ones(block_size, block_size)))\n",
    "\n",
    "        self.dropout = nn.Dropout(dropout)\n",
    "\n",
    "    def forward(self, x):\n",
    "        B,T,C = x.shape\n",
    "        k = self.key(x)   # (B,T,C)\n",
    "        q = self.query(x) # (B,T,C)\n",
    "        # Compute attention scores (\"affinities\")\n",
    "        wei = q @ k.transpose(-2,-1) * C**-0.5 # (B, T, C) @ (B, C, T) -> (B, T, T)\n",
    "        wei = wei.masked_fill(self.tril[:T, :T] == 0, float('-inf')) # (B, T, T)\n",
    "        wei = F.softmax(wei, dim=-1) # (B, T, T)\n",
    "        wei = self.dropout(wei)\n",
    "        # Perform the weighted aggregation of the values\n",
    "        v = self.value(x) # (B,T,C)\n",
    "        out = wei @ v # (B, T, T) @ (B, T, C) -> (B, T, C)\n",
    "        return out\n",
    "\n",
    "class MultiHeadAttention(nn.Module):\n",
    "    \"\"\" Multiple heads of self-attention in parallel \"\"\"\n",
    "\n",
    "    def __init__(self, num_heads, head_size):\n",
    "        super().__init__()\n",
    "        self.heads = nn.ModuleList([Head(head_size) for _ in range(num_heads)])\n",
    "        self.proj = nn.Linear(n_embd, n_embd)\n",
    "        self.dropout = nn.Dropout(dropout)\n",
    "\n",
    "    def forward(self, x):\n",
    "        out = torch.cat([h(x) for h in self.heads], dim=-1)\n",
    "        out = self.dropout(self.proj(out))\n",
    "        return out\n",
    "\n",
    "class FeedFoward(nn.Module):\n",
    "    \"\"\" A simple linear layer followed by a non-linearity \"\"\"\n",
    "\n",
    "    def __init__(self, n_embd):\n",
    "        super().__init__()\n",
    "        self.net = nn.Sequential(\n",
    "            nn.Linear(n_embd, 4 * n_embd),\n",
    "            nn.ReLU(),\n",
    "            nn.Linear(4 * n_embd, n_embd),\n",
    "            nn.Dropout(dropout),\n",
    "        )\n",
    "\n",
    "    def forward(self, x):\n",
    "        return self.net(x)\n",
    "\n",
    "class Block(nn.Module):\n",
    "    \"\"\" Transformer block: communication followed by computation \"\"\"\n",
    "\n",
    "    def __init__(self, n_embd, n_head):\n",
    "        # n_embd: embedding dimension, n_head: the number of heads we'd like\n",
    "        super().__init__()\n",
    "        head_size = n_embd // n_head\n",
    "        self.sa = MultiHeadAttention(n_head, head_size)\n",
    "        self.ffwd = FeedFoward(n_embd)\n",
    "        self.ln1 = nn.LayerNorm(n_embd)\n",
    "        self.ln2 = nn.LayerNorm(n_embd)\n",
    "\n",
    "    def forward(self, x):\n",
    "        x = x + self.sa(self.ln1(x))\n",
    "        x = x + self.ffwd(self.ln2(x))\n",
    "        return x\n",
    "\n",
    "\n",
    "# Super simple bigram model\n",
    "class BigramLanguageModel(nn.Module):\n",
    "\n",
    "    def __init__(self):\n",
    "        super().__init__()\n",
    "        # Each token directly reads off the logits for the next token from a lookup table\n",
    "        self.token_embedding_table = nn.Embedding(vocab_size, n_embd)\n",
    "        self.position_embedding_table = nn.Embedding(block_size, n_embd)\n",
    "        self.blocks = nn.Sequential(*[Block(n_embd, n_head=n_head) for _ in range(n_layer)])\n",
    "        self.ln_f = nn.LayerNorm(n_embd) # final layer norm\n",
    "        self.lm_head = nn.Linear(n_embd, vocab_size)\n",
    "\n",
    "    def forward(self, idx, targets=None):\n",
    "        B, T = idx.shape\n",
    "\n",
    "        # idx and targets are both (B,T) tensor of integers\n",
    "        tok_emb = self.token_embedding_table(idx) # (B,T,C)\n",
    "        pos_emb = self.position_embedding_table(torch.arange(T, device=device)) # (T,C)\n",
    "        x = tok_emb + pos_emb # (B,T,C)\n",
    "        x = self.blocks(x) # (B,T,C)\n",
    "        x = self.ln_f(x) # (B,T,C)\n",
    "        logits = self.lm_head(x) # (B,T,vocab_size)\n",
    "\n",
    "        if targets is None:\n",
    "            loss = None\n",
    "        else:\n",
    "            B, T, C = logits.shape\n",
    "            logits = logits.view(B*T, C)\n",
    "            targets = targets.view(B*T)\n",
    "            loss = F.cross_entropy(logits, targets)\n",
    "\n",
    "        return logits, loss\n",
    "\n",
    "    def generate(self, idx, max_new_tokens):\n",
    "        # idx is (B, T) array of indices in the current context\n",
    "        for _ in range(max_new_tokens):\n",
    "            # crop idx to the last block_size tokens\n",
    "            idx_cond = idx[:, -block_size:]\n",
    "            # Get the predictions\n",
    "            logits, loss = self(idx_cond)\n",
    "            # Focus only on the last time step\n",
    "            logits = logits[:, -1, :] # becomes (B, C)\n",
    "            # Apply softmax to get probabilities\n",
    "            probs = F.softmax(logits, dim=-1) # (B, C)\n",
    "            # Sample from the distribution\n",
    "            idx_next = torch.multinomial(probs, num_samples=1) # (B, 1)\n",
    "            # Append sampled index to the running sequence\n",
    "            idx = torch.cat((idx, idx_next), dim=1) # (B, T+1)\n",
    "        return idx\n",
    "\n",
    "model = BigramLanguageModel()\n",
    "m = model.to(device)\n",
    "# Print the number of parameters in the model\n",
    "print(sum(p.numel() for p in m.parameters())/1e6, 'M parameters')\n",
    "\n",
    "# Create a PyTorch optimizer\n",
    "optimizer = torch.optim.AdamW(model.parameters(), lr=learning_rate)\n",
    "\n",
    "for iter in range(max_iters):\n",
    "\n",
    "    # Every once in a while evaluate the loss on train and val sets\n",
    "    if iter % eval_interval == 0 or iter == max_iters - 1:\n",
    "        losses = estimate_loss()\n",
    "        print(f\"step {iter}: train loss {losses['train']:.4f}, val loss {losses['val']:.4f}\")\n",
    "\n",
    "    # Sample a batch of data\n",
    "    xb, yb = get_batch('train')\n",
    "\n",
    "    # Evaluate the loss\n",
    "    logits, loss = model(xb, yb)\n",
    "    optimizer.zero_grad(set_to_none=True)\n",
    "    loss.backward()\n",
    "    optimizer.step()\n",
    "\n",
    "# Generate from the model\n",
    "context = torch.zeros((1, 1), dtype=torch.long, device=device)\n",
    "print(decode(m.generate(context, max_new_tokens=2000)[0].tolist()))"
   ]
  }
 ],
 "metadata": {
  "accelerator": "GPU",
  "colab": {
   "gpuType": "T4",
   "provenance": []
  },
  "kernelspec": {
   "display_name": "Python 3 (ipykernel)",
   "language": "python",
   "name": "python3"
  },
  "language_info": {
   "codemirror_mode": {
    "name": "ipython",
    "version": 3
   },
   "file_extension": ".py",
   "mimetype": "text/x-python",
   "name": "python",
   "nbconvert_exporter": "python",
   "pygments_lexer": "ipython3",
   "version": "3.11.5"
  }
 },
 "nbformat": 4,
 "nbformat_minor": 1
}
